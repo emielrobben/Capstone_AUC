{
 "cells": [
  {
   "cell_type": "code",
   "execution_count": 1,
   "id": "f36c2201",
   "metadata": {},
   "outputs": [
    {
     "name": "stdout",
     "output_type": "stream",
     "text": [
      "p( 01001101 ) : 0.09375\n",
      "p( 01011001 ) : 0.078125\n",
      "p( 01011110 ) : 0.09765625\n",
      "p( 01111001 ) : 0.10546875\n",
      "p( 11001011 ) : 0.13671875\n",
      "p( 11001101 ) : 0.04296875\n",
      "p( 11011011 ) : 0.08984375\n",
      "p( 11011110 ) : 0.1015625\n",
      "p( 11101011 ) : 0.00390625\n",
      "p( 11101111 ) : 0.1015625\n",
      "p( 11111110 ) : 0.1484375\n",
      "Probability sum: 1.0\n"
     ]
    }
   ],
   "source": [
    "\n",
    "\n",
    "import RBN_flip\n",
    "\n",
    "\n",
    "K = 6\n",
    "N = 8\n",
    "r = 0.6\n",
    "\n",
    "\n",
    "# Create an instance of the RBN class\n",
    "network = RBN_flip.RBN(K,N,r)\n",
    "\n",
    "# Now you can use the network instance to call the print_pmf function\n",
    "RBN_flip.print_pmf(network, N)  # assuming N is defined or replace it with the actual value\n"
   ]
  },
  {
   "cell_type": "code",
   "execution_count": null,
   "id": "4451c084",
   "metadata": {},
   "outputs": [],
   "source": []
  },
  {
   "cell_type": "code",
   "execution_count": null,
   "id": "4e2d2e6c",
   "metadata": {},
   "outputs": [],
   "source": []
  }
 ],
 "metadata": {
  "kernelspec": {
   "display_name": "Python 3 (ipykernel)",
   "language": "python",
   "name": "python3"
  },
  "language_info": {
   "codemirror_mode": {
    "name": "ipython",
    "version": 3
   },
   "file_extension": ".py",
   "mimetype": "text/x-python",
   "name": "python",
   "nbconvert_exporter": "python",
   "pygments_lexer": "ipython3",
   "version": "3.9.13"
  }
 },
 "nbformat": 4,
 "nbformat_minor": 5
}
